{
 "cells": [
  {
   "cell_type": "markdown",
   "metadata": {},
   "source": [
    "<img align=\"right\" src=\"images/tf.png\" width=\"150\"/>\n",
    "<img align=\"right\" src=\"images/etcbc.png\" width=\"150\"/>\n",
    "<img align=\"left\" src=\"images/logo.png\" width=\"300\"/>\n",
    "\n",
    "# Search Introduction\n",
    "\n",
    "*Search* in Text-Fabric is a\n",
    "[template based](https://dans-labs.github.io/text-fabric/Use/Search/#search-templates)\n",
    "way of looking for structural patterns in your dataset.\n",
    "\n",
    "Within Text-Fabric we have the unique possibility to combine the ease of formulating search templates for\n",
    "complicated syntactical patterns with the power of programmatically processing the results.\n",
    "\n",
    "This notebook will show you how to get up and running.\n",
    "\n",
    "## Easy command\n",
    "\n",
    "Search is as simple as saying (just an example)\n",
    "\n",
    "```python\n",
    "results = A.search(template)\n",
    "A.show(results)\n",
    "```\n",
    "\n",
    "See all ins and outs in the\n",
    "[search template docs]().\n"
   ]
  },
  {
   "cell_type": "markdown",
   "metadata": {},
   "source": [
    "# Incantation\n",
    "\n",
    "The ins and outs of installing Text-Fabric, getting the corpus, and initializing a notebook are\n",
    "explained in the [start tutorial](start.ipynb)."
   ]
  },
  {
   "cell_type": "code",
   "execution_count": 1,
   "metadata": {},
   "outputs": [],
   "source": [
    "%load_ext autoreload\n",
    "%autoreload 2"
   ]
  },
  {
   "cell_type": "code",
   "execution_count": 2,
   "metadata": {
    "ExecuteTime": {
     "end_time": "2018-05-24T10:06:39.818664Z",
     "start_time": "2018-05-24T10:06:39.796588Z"
    }
   },
   "outputs": [],
   "source": [
    "from tf.app import use"
   ]
  },
  {
   "cell_type": "code",
   "execution_count": 3,
   "metadata": {
    "ExecuteTime": {
     "end_time": "2018-05-24T10:06:51.615044Z",
     "start_time": "2018-05-24T10:06:50.161456Z"
    }
   },
   "outputs": [
    {
     "name": "stdout",
     "output_type": "stream",
     "text": [
      "Using etcbc/peshitta/tf - 0.1 r0.4 in /Users/dirk/text-fabric-data\n"
     ]
    },
    {
     "data": {
      "text/markdown": [
       "**Documentation:** <a target=\"_blank\" href=\"https://github.com/etcbc/peshitta/blob/master/docs\" title=\"provenance of Peshitta (Old Testament)\">PESHITTA</a> <a target=\"_blank\" href=\"https://dans-labs.github.io/text-fabric/Writing/Syriac\" title=\"('Syriac characters and transcriptions',)\">Character table</a> <a target=\"_blank\" href=\"https://github.com/etcbc/peshitta/blob/master/docs/transcription-0.1.md#transcription.md\" title=\"PESHITTA feature documentation\">Feature docs</a> <a target=\"_blank\" href=\"https://dans-labs.github.io/text-fabric/Apps/Peshitta/\" title=\"peshitta API documentation\">peshitta API</a> <a target=\"_blank\" href=\"https://dans-labs.github.io/text-fabric/Api/General/\" title=\"text-fabric-api\">Text-Fabric API 7.1.1</a> <a target=\"_blank\" href=\"https://dans-labs.github.io/text-fabric/Use/Search/\" title=\"Search Templates Introduction and Reference\">Search Reference</a>"
      ],
      "text/plain": [
       "<IPython.core.display.Markdown object>"
      ]
     },
     "metadata": {},
     "output_type": "display_data"
    },
    {
     "data": {
      "text/html": [
       "<details open><summary><b>Loaded features</b>:</summary>\n",
       "<p><b>Peshitta (Old Testament)</b>: <a target=\"_blank\" href=\"https://github.com/etcbc/peshitta/blob/master/docs/transcription-0.1.md#book\" title=\"/Users/dirk/text-fabric-data/etcbc/peshitta/tf/0.1/book.tf\">book</a>  <a target=\"_blank\" href=\"https://github.com/etcbc/peshitta/blob/master/docs/transcription-0.1.md#book@ll\" title=\"/Users/dirk/text-fabric-data/etcbc/peshitta/tf/0.1/book@en.tf\">book@ll</a>  <a target=\"_blank\" href=\"https://github.com/etcbc/peshitta/blob/master/docs/transcription-0.1.md#chapter\" title=\"/Users/dirk/text-fabric-data/etcbc/peshitta/tf/0.1/chapter.tf\">chapter</a>  <a target=\"_blank\" href=\"https://github.com/etcbc/peshitta/blob/master/docs/transcription-0.1.md#otype\" title=\"/Users/dirk/text-fabric-data/etcbc/peshitta/tf/0.1/otype.tf\">otype</a>  <a target=\"_blank\" href=\"https://github.com/etcbc/peshitta/blob/master/docs/transcription-0.1.md#trailer\" title=\"/Users/dirk/text-fabric-data/etcbc/peshitta/tf/0.1/trailer.tf\">trailer</a>  <a target=\"_blank\" href=\"https://github.com/etcbc/peshitta/blob/master/docs/transcription-0.1.md#trailer_etcbc\" title=\"/Users/dirk/text-fabric-data/etcbc/peshitta/tf/0.1/trailer_etcbc.tf\">trailer_etcbc</a>  <a target=\"_blank\" href=\"https://github.com/etcbc/peshitta/blob/master/docs/transcription-0.1.md#verse\" title=\"/Users/dirk/text-fabric-data/etcbc/peshitta/tf/0.1/verse.tf\">verse</a>  <a target=\"_blank\" href=\"https://github.com/etcbc/peshitta/blob/master/docs/transcription-0.1.md#witness\" title=\"/Users/dirk/text-fabric-data/etcbc/peshitta/tf/0.1/witness.tf\">witness</a>  <a target=\"_blank\" href=\"https://github.com/etcbc/peshitta/blob/master/docs/transcription-0.1.md#word\" title=\"/Users/dirk/text-fabric-data/etcbc/peshitta/tf/0.1/word.tf\">word</a>  <a target=\"_blank\" href=\"https://github.com/etcbc/peshitta/blob/master/docs/transcription-0.1.md#word_etcbc\" title=\"/Users/dirk/text-fabric-data/etcbc/peshitta/tf/0.1/word_etcbc.tf\">word_etcbc</a>  <b><i><a target=\"_blank\" href=\"https://github.com/etcbc/peshitta/blob/master/docs/transcription-0.1.md#oslots\" title=\"/Users/dirk/text-fabric-data/etcbc/peshitta/tf/0.1/oslots.tf\">oslots</a></i></b> </p></details>"
      ],
      "text/plain": [
       "<IPython.core.display.HTML object>"
      ]
     },
     "metadata": {},
     "output_type": "display_data"
    },
    {
     "data": {
      "text/html": [
       "<style>\n",
       "@font-face {\n",
       "  font-family: \"Estrangelo Edessa\";\n",
       "  src: url('https://github.com/Dans-labs/text-fabric/blob/master/tf/server/static/fonts/SyrCOMEdessa.otf?raw=true');\n",
       "  src: url('https://github.com/Dans-labs/text-fabric/blob/master/tf/server/static/fonts/SyrCOMEdessa.woff?raw=true') format('woff');\n",
       "}\n",
       ".features {\n",
       "    font-family: monospace;\n",
       "    font-size: medium;\n",
       "    font-weight: bold;\n",
       "    color: #0a6611;\n",
       "    display: flex;\n",
       "    flex-flow: column nowrap;\n",
       "    padding: 0.1em;\n",
       "    margin: 0.1em;\n",
       "    direction: ltr;\n",
       "}\n",
       ".features div,.features span {\n",
       "    padding: 0;\n",
       "    margin: -0.1rem 0;\n",
       "}\n",
       ".features .f {\n",
       "    font-family: sans-serif;\n",
       "    font-size: x-small;\n",
       "    font-weight: normal;\n",
       "    color: #5555bb;\n",
       "}\n",
       ".features .xft {\n",
       "  color: #000000;\n",
       "  background-color: #eeeeee;\n",
       "  font-size: medium;\n",
       "  margin: 0.1em 0em;\n",
       "}\n",
       ".features .xft .f {\n",
       "  color: #000000;\n",
       "  background-color: #eeeeee;\n",
       "  font-style: italic;\n",
       "  font-size: small;\n",
       "  font-weight: normal;\n",
       "}\n",
       ".verse {\n",
       "    display: flex;\n",
       "    flex-flow: row wrap;\n",
       "    direction: rtl;\n",
       "}\n",
       ".vl {\n",
       "    display: flex;\n",
       "    flex-flow: column nowrap;\n",
       "    justify-content: flex-end;\n",
       "    align-items: flex-end;\n",
       "    direction: ltr;\n",
       "    width: 100%;\n",
       "}\n",
       ".outeritem {\n",
       "    display: flex;\n",
       "    flex-flow: row wrap;\n",
       "    direction: rtl;\n",
       "}\n",
       ".word {\n",
       "    padding: 0.1em;\n",
       "    margin: 0.1em;\n",
       "    border-radius: 0.1em;\n",
       "    border: 1px solid #cccccc;\n",
       "    display: flex;\n",
       "    flex-flow: column nowrap;\n",
       "    direction: rtl;\n",
       "    background-color: #ffffff;\n",
       "}\n",
       ".occs {\n",
       "    font-size: x-small;\n",
       "}\n",
       ".tr,.tr a:visited,.tr a:link {\n",
       "    font-family: sans-serif;\n",
       "    font-size: large;\n",
       "    color: #000044;\n",
       "    direction: ltr;\n",
       "    text-decoration: none;\n",
       "}\n",
       ".trb,.trb a:visited,.trb a:link {\n",
       "    font-family: sans-serif;\n",
       "    font-size: normal;\n",
       "    direction: ltr;\n",
       "    text-decoration: none;\n",
       "}\n",
       ".sy,.sy a:visited,.sy a:link {\n",
       "    font-family: \"Estrangelo Edessa\", sans-serif;\n",
       "    font-size: large;\n",
       "    color: #000044;\n",
       "    direction: rtl;\n",
       "    text-decoration: none;\n",
       "}\n",
       ".syb,.syb a:visited,.syb a:link {\n",
       "    font-family: \"Estrangelo Edessa\", sans-serif;\n",
       "    font-size: large;\n",
       "    direction: rtl;\n",
       "    text-decoration: none;\n",
       "}\n",
       ".vn {\n",
       "  font-size: small !important;\n",
       "  padding-right: 1em;\n",
       "}\n",
       ".nd {\n",
       "    font-family: monospace;\n",
       "    font-size: x-small;\n",
       "    color: #999999;\n",
       "}\n",
       ".hl {\n",
       "    background-color: #ffee66;\n",
       "}\n",
       "span.hldot {\n",
       "\tbackground-color: var(--hl-strong);\n",
       "\tborder: 0.2rem solid var(--hl-rim);\n",
       "\tborder-radius: 0.4rem;\n",
       "\t/*\n",
       "\tdisplay: inline-block;\n",
       "\twidth: 0.8rem;\n",
       "\theight: 0.8rem;\n",
       "\t*/\n",
       "}\n",
       "span.hl {\n",
       "\tbackground-color: var(--hl-strong);\n",
       "\tborder-width: 0;\n",
       "\tborder-radius: 0.1rem;\n",
       "\tborder-style: solid;\n",
       "}\n",
       "\n",
       "span.hlup {\n",
       "\tborder-color: var(--hl-dark);\n",
       "\tborder-width: 0.1rem;\n",
       "\tborder-style: solid;\n",
       "\tborder-radius: 0.2rem;\n",
       "  padding: 0.2rem;\n",
       "}\n",
       "\n",
       ":root {\n",
       "\t--hl-strong:        hsla( 60, 100%,  70%, 0.9  );\n",
       "\t--hl-rim:           hsla( 55, 100%,  60%, 0.9  );\n",
       "\t--hl-dark:          hsla( 55, 100%,  40%, 0.9  );\n",
       "}\n",
       "</style>"
      ],
      "text/plain": [
       "<IPython.core.display.HTML object>"
      ]
     },
     "metadata": {},
     "output_type": "display_data"
    },
    {
     "data": {
      "text/html": [
       "<details open><summary><b>API members</b>:</summary>\n",
       "<a target=\"_blank\" href=\"https://dans-labs.github.io/text-fabric/Api/General/#computed-data\" title=\"doc\">C Computed</a>, <a target=\"_blank\" href=\"https://dans-labs.github.io/text-fabric/Api/General/#computed-data\" title=\"doc\">Call AllComputeds</a>, <a target=\"_blank\" href=\"https://dans-labs.github.io/text-fabric/Api/General/#computed-data\" title=\"doc\">Cs ComputedString</a><br/>\n",
       "<a target=\"_blank\" href=\"https://dans-labs.github.io/text-fabric/Api/General/#edge-features\" title=\"doc\">E Edge</a>, <a target=\"_blank\" href=\"https://dans-labs.github.io/text-fabric/Api/General/#edge-features\" title=\"doc\">Eall AllEdges</a>, <a target=\"_blank\" href=\"https://dans-labs.github.io/text-fabric/Api/General/#edge-features\" title=\"doc\">Es EdgeString</a><br/>\n",
       "<a target=\"_blank\" href=\"https://dans-labs.github.io/text-fabric/Api/General/#loading\" title=\"doc\">TF</a>, <a target=\"_blank\" href=\"https://dans-labs.github.io/text-fabric/Api/General/#loading\" title=\"doc\">ensureLoaded</a>, <a target=\"_blank\" href=\"https://dans-labs.github.io/text-fabric/Api/General/#loading\" title=\"doc\">ignored</a>, <a target=\"_blank\" href=\"https://dans-labs.github.io/text-fabric/Api/General/#loading\" title=\"doc\">loadLog</a><br/>\n",
       "<a target=\"_blank\" href=\"https://dans-labs.github.io/text-fabric/Api/General/#locality\" title=\"doc\">L Locality</a><br/>\n",
       "<a target=\"_blank\" href=\"https://dans-labs.github.io/text-fabric/Api/General/#messaging\" title=\"doc\">cache</a>, <a target=\"_blank\" href=\"https://dans-labs.github.io/text-fabric/Api/General/#messaging\" title=\"doc\">error</a>, <a target=\"_blank\" href=\"https://dans-labs.github.io/text-fabric/Api/General/#messaging\" title=\"doc\">indent</a>, <a target=\"_blank\" href=\"https://dans-labs.github.io/text-fabric/Api/General/#messaging\" title=\"doc\">info</a>, <a target=\"_blank\" href=\"https://dans-labs.github.io/text-fabric/Api/General/#messaging\" title=\"doc\">reset</a><br/>\n",
       "<a target=\"_blank\" href=\"https://dans-labs.github.io/text-fabric/Api/General/#navigating-nodes\" title=\"doc\">N Nodes</a>, <a target=\"_blank\" href=\"https://dans-labs.github.io/text-fabric/Api/General/#navigating-nodes\" title=\"doc\">sortKey</a>, <a target=\"_blank\" href=\"https://dans-labs.github.io/text-fabric/Api/General/#navigating-nodes\" title=\"doc\">sortKeyTuple</a>, <a target=\"_blank\" href=\"https://dans-labs.github.io/text-fabric/Api/General/#navigating-nodes\" title=\"doc\">otypeRank</a>, <a target=\"_blank\" href=\"https://dans-labs.github.io/text-fabric/Api/General/#navigating-nodes\" title=\"doc\">sortNodes</a><br/>\n",
       "<a target=\"_blank\" href=\"https://dans-labs.github.io/text-fabric/Api/General/#node-features\" title=\"doc\">F Feature</a>, <a target=\"_blank\" href=\"https://dans-labs.github.io/text-fabric/Api/General/#node-features\" title=\"doc\">Fall AllFeatures</a>, <a target=\"_blank\" href=\"https://dans-labs.github.io/text-fabric/Api/General/#node-features\" title=\"doc\">Fs FeatureString</a><br/>\n",
       "<a target=\"_blank\" href=\"https://dans-labs.github.io/text-fabric/Api/General/#search\" title=\"doc\">S Search</a><br/>\n",
       "<a target=\"_blank\" href=\"https://dans-labs.github.io/text-fabric/Api/General/#text\" title=\"doc\">T Text</a></details>"
      ],
      "text/plain": [
       "<IPython.core.display.HTML object>"
      ]
     },
     "metadata": {},
     "output_type": "display_data"
    }
   ],
   "source": [
    "A = use('peshitta', hoist=globals())"
   ]
  },
  {
   "cell_type": "markdown",
   "metadata": {},
   "source": [
    "# Basic search command\n",
    "\n",
    "We start with the most simple form of issuing a query.\n",
    "Let's look for the words in 1 Samuel, chapter 1.\n",
    "\n",
    "All work involved in searching takes place under the hood."
   ]
  },
  {
   "cell_type": "code",
   "execution_count": 4,
   "metadata": {
    "ExecuteTime": {
     "end_time": "2018-05-24T07:46:55.998382Z",
     "start_time": "2018-05-24T07:46:55.137956Z"
    }
   },
   "outputs": [
    {
     "name": "stdout",
     "output_type": "stream",
     "text": [
      "  0.30s 445 results\n"
     ]
    },
    {
     "data": {
      "text/markdown": [
       "n | p | book | chapter | word\n",
       "--- | --- | --- | --- | ---\n",
       "1| <a href=\"https://github.com/etcbc/peshitta/blob/master/source/0.1/Samuel_1\" title=\"show this passage in the Peshitta source\" sec=\"Samuel_1 1\">Samuel_1 1</a>|<span class=\"trb\"><a href=\"https://github.com/etcbc/peshitta/blob/master/source/0.1/Samuel_1\" title=\"Samuel_1\" sec=\"Samuel_1\">Samuel_1</a></span>|<span class=\"trb\">Samuel_1 1</span>|<span class=\"syb\"><span  class=\"hl\" >ܘܗܘܐ </span></span>\n",
       "2| <a href=\"https://github.com/etcbc/peshitta/blob/master/source/0.1/Samuel_1\" title=\"show this passage in the Peshitta source\" sec=\"Samuel_1 1\">Samuel_1 1</a>|<span class=\"trb\"><a href=\"https://github.com/etcbc/peshitta/blob/master/source/0.1/Samuel_1\" title=\"Samuel_1\" sec=\"Samuel_1\">Samuel_1</a></span>|<span class=\"trb\">Samuel_1 1</span>|<span class=\"syb\"><span  class=\"hl\" >ܓܒܪܐ </span></span>\n",
       "3| <a href=\"https://github.com/etcbc/peshitta/blob/master/source/0.1/Samuel_1\" title=\"show this passage in the Peshitta source\" sec=\"Samuel_1 1\">Samuel_1 1</a>|<span class=\"trb\"><a href=\"https://github.com/etcbc/peshitta/blob/master/source/0.1/Samuel_1\" title=\"Samuel_1\" sec=\"Samuel_1\">Samuel_1</a></span>|<span class=\"trb\">Samuel_1 1</span>|<span class=\"syb\"><span  class=\"hl\" >ܚܕ </span></span>\n",
       "4| <a href=\"https://github.com/etcbc/peshitta/blob/master/source/0.1/Samuel_1\" title=\"show this passage in the Peshitta source\" sec=\"Samuel_1 1\">Samuel_1 1</a>|<span class=\"trb\"><a href=\"https://github.com/etcbc/peshitta/blob/master/source/0.1/Samuel_1\" title=\"Samuel_1\" sec=\"Samuel_1\">Samuel_1</a></span>|<span class=\"trb\">Samuel_1 1</span>|<span class=\"syb\"><span  class=\"hl\" >ܡܢ </span></span>\n",
       "5| <a href=\"https://github.com/etcbc/peshitta/blob/master/source/0.1/Samuel_1\" title=\"show this passage in the Peshitta source\" sec=\"Samuel_1 1\">Samuel_1 1</a>|<span class=\"trb\"><a href=\"https://github.com/etcbc/peshitta/blob/master/source/0.1/Samuel_1\" title=\"Samuel_1\" sec=\"Samuel_1\">Samuel_1</a></span>|<span class=\"trb\">Samuel_1 1</span>|<span class=\"syb\"><span  class=\"hl\" >ܪܡܬܐ </span></span>\n",
       "6| <a href=\"https://github.com/etcbc/peshitta/blob/master/source/0.1/Samuel_1\" title=\"show this passage in the Peshitta source\" sec=\"Samuel_1 1\">Samuel_1 1</a>|<span class=\"trb\"><a href=\"https://github.com/etcbc/peshitta/blob/master/source/0.1/Samuel_1\" title=\"Samuel_1\" sec=\"Samuel_1\">Samuel_1</a></span>|<span class=\"trb\">Samuel_1 1</span>|<span class=\"syb\"><span  class=\"hl\" >ܕܕܘܩ̈ܐ </span></span>\n",
       "7| <a href=\"https://github.com/etcbc/peshitta/blob/master/source/0.1/Samuel_1\" title=\"show this passage in the Peshitta source\" sec=\"Samuel_1 1\">Samuel_1 1</a>|<span class=\"trb\"><a href=\"https://github.com/etcbc/peshitta/blob/master/source/0.1/Samuel_1\" title=\"Samuel_1\" sec=\"Samuel_1\">Samuel_1</a></span>|<span class=\"trb\">Samuel_1 1</span>|<span class=\"syb\"><span  class=\"hl\" >ܡܢ </span></span>\n",
       "8| <a href=\"https://github.com/etcbc/peshitta/blob/master/source/0.1/Samuel_1\" title=\"show this passage in the Peshitta source\" sec=\"Samuel_1 1\">Samuel_1 1</a>|<span class=\"trb\"><a href=\"https://github.com/etcbc/peshitta/blob/master/source/0.1/Samuel_1\" title=\"Samuel_1\" sec=\"Samuel_1\">Samuel_1</a></span>|<span class=\"trb\">Samuel_1 1</span>|<span class=\"syb\"><span  class=\"hl\" >ܛܘܪܐ </span></span>\n",
       "9| <a href=\"https://github.com/etcbc/peshitta/blob/master/source/0.1/Samuel_1\" title=\"show this passage in the Peshitta source\" sec=\"Samuel_1 1\">Samuel_1 1</a>|<span class=\"trb\"><a href=\"https://github.com/etcbc/peshitta/blob/master/source/0.1/Samuel_1\" title=\"Samuel_1\" sec=\"Samuel_1\">Samuel_1</a></span>|<span class=\"trb\">Samuel_1 1</span>|<span class=\"syb\"><span  class=\"hl\" >ܕܐܦܪܝܡ </span></span>\n",
       "10| <a href=\"https://github.com/etcbc/peshitta/blob/master/source/0.1/Samuel_1\" title=\"show this passage in the Peshitta source\" sec=\"Samuel_1 1\">Samuel_1 1</a>|<span class=\"trb\"><a href=\"https://github.com/etcbc/peshitta/blob/master/source/0.1/Samuel_1\" title=\"Samuel_1\" sec=\"Samuel_1\">Samuel_1</a></span>|<span class=\"trb\">Samuel_1 1</span>|<span class=\"syb\"><span  class=\"hl\" >ܘܫܡܗ </span></span>"
      ],
      "text/plain": [
       "<IPython.core.display.Markdown object>"
      ]
     },
     "metadata": {},
     "output_type": "display_data"
    }
   ],
   "source": [
    "query = '''\n",
    "book book=Sm1\n",
    "  chapter chapter=1\n",
    "    word\n",
    "'''\n",
    "results = A.search(query)\n",
    "A.table(results, end=10)"
   ]
  },
  {
   "cell_type": "markdown",
   "metadata": {},
   "source": [
    "The hyperlinks take us all to the beginning of the book of 1 Samuel.\n",
    "\n",
    "Note that we can choose start and/or end points in the results list."
   ]
  },
  {
   "cell_type": "code",
   "execution_count": 5,
   "metadata": {
    "ExecuteTime": {
     "end_time": "2018-05-24T07:47:03.299872Z",
     "start_time": "2018-05-24T07:47:03.261873Z"
    }
   },
   "outputs": [
    {
     "data": {
      "text/markdown": [
       "n | p | book | chapter | word\n",
       "--- | --- | --- | --- | ---\n",
       "8| <a href=\"https://github.com/etcbc/peshitta/blob/master/source/0.1/Samuel_1\" title=\"show this passage in the Peshitta source\" sec=\"Samuel_1 1:1\">Samuel_1 1:1</a>|<span class=\"trb\">Samuel_1</span>|<span class=\"trb\">Samuel_1 1</span>|<span class=\"syb\"><a href=\"https://github.com/etcbc/peshitta/blob/master/source/0.1/Samuel_1\" title=\"Samuel_1 1:1\" sec=\"Samuel_1 1:1\"><span  class=\"hl\" >ܛܘܪܐ </span></a></span>\n",
       "9| <a href=\"https://github.com/etcbc/peshitta/blob/master/source/0.1/Samuel_1\" title=\"show this passage in the Peshitta source\" sec=\"Samuel_1 1:1\">Samuel_1 1:1</a>|<span class=\"trb\">Samuel_1</span>|<span class=\"trb\">Samuel_1 1</span>|<span class=\"syb\"><a href=\"https://github.com/etcbc/peshitta/blob/master/source/0.1/Samuel_1\" title=\"Samuel_1 1:1\" sec=\"Samuel_1 1:1\"><span  class=\"hl\" >ܕܐܦܪܝܡ </span></a></span>\n",
       "10| <a href=\"https://github.com/etcbc/peshitta/blob/master/source/0.1/Samuel_1\" title=\"show this passage in the Peshitta source\" sec=\"Samuel_1 1:1\">Samuel_1 1:1</a>|<span class=\"trb\">Samuel_1</span>|<span class=\"trb\">Samuel_1 1</span>|<span class=\"syb\"><a href=\"https://github.com/etcbc/peshitta/blob/master/source/0.1/Samuel_1\" title=\"Samuel_1 1:1\" sec=\"Samuel_1 1:1\"><span  class=\"hl\" >ܘܫܡܗ </span></a></span>\n",
       "11| <a href=\"https://github.com/etcbc/peshitta/blob/master/source/0.1/Samuel_1\" title=\"show this passage in the Peshitta source\" sec=\"Samuel_1 1:1\">Samuel_1 1:1</a>|<span class=\"trb\">Samuel_1</span>|<span class=\"trb\">Samuel_1 1</span>|<span class=\"syb\"><a href=\"https://github.com/etcbc/peshitta/blob/master/source/0.1/Samuel_1\" title=\"Samuel_1 1:1\" sec=\"Samuel_1 1:1\"><span  class=\"hl\" >ܗܠܩܢܐ </span></a></span>\n",
       "12| <a href=\"https://github.com/etcbc/peshitta/blob/master/source/0.1/Samuel_1\" title=\"show this passage in the Peshitta source\" sec=\"Samuel_1 1:1\">Samuel_1 1:1</a>|<span class=\"trb\">Samuel_1</span>|<span class=\"trb\">Samuel_1 1</span>|<span class=\"syb\"><a href=\"https://github.com/etcbc/peshitta/blob/master/source/0.1/Samuel_1\" title=\"Samuel_1 1:1\" sec=\"Samuel_1 1:1\"><span  class=\"hl\" >ܒܪ </span></a></span>\n",
       "13| <a href=\"https://github.com/etcbc/peshitta/blob/master/source/0.1/Samuel_1\" title=\"show this passage in the Peshitta source\" sec=\"Samuel_1 1:1\">Samuel_1 1:1</a>|<span class=\"trb\">Samuel_1</span>|<span class=\"trb\">Samuel_1 1</span>|<span class=\"syb\"><a href=\"https://github.com/etcbc/peshitta/blob/master/source/0.1/Samuel_1\" title=\"Samuel_1 1:1\" sec=\"Samuel_1 1:1\"><span  class=\"hl\" >ܝܪܚܘܡ </span></a></span>"
      ],
      "text/plain": [
       "<IPython.core.display.Markdown object>"
      ]
     },
     "metadata": {},
     "output_type": "display_data"
    }
   ],
   "source": [
    "A.table(results, start=8, end=13, linked=3)"
   ]
  },
  {
   "cell_type": "markdown",
   "metadata": {},
   "source": [
    "We can show the results more fully with `show()`."
   ]
  },
  {
   "cell_type": "code",
   "execution_count": 6,
   "metadata": {
    "ExecuteTime": {
     "end_time": "2018-05-24T07:47:06.875859Z",
     "start_time": "2018-05-24T07:47:06.757345Z"
    }
   },
   "outputs": [
    {
     "data": {
      "text/markdown": [
       "\n",
       "\n",
       "**book** *1*\n",
       "\n"
      ],
      "text/plain": [
       "<IPython.core.display.Markdown object>"
      ]
     },
     "metadata": {},
     "output_type": "display_data"
    },
    {
     "data": {
      "text/html": [
       "<a href=\"https://github.com/etcbc/peshitta/blob/master/source/0.1/Samuel_1\" title=\"show this passage in the Peshitta source\" sec=\"Samuel_1\">Samuel_1</a>"
      ],
      "text/plain": [
       "<IPython.core.display.HTML object>"
      ]
     },
     "metadata": {},
     "output_type": "display_data"
    },
    {
     "data": {
      "text/html": [
       "<a href=\"https://github.com/etcbc/peshitta/blob/master/source/0.1/Samuel_1\" title=\"show this passage in the Peshitta source\" sec=\"Samuel_1 1\">Samuel_1 1</a>"
      ],
      "text/plain": [
       "<IPython.core.display.HTML object>"
      ]
     },
     "metadata": {},
     "output_type": "display_data"
    },
    {
     "data": {
      "text/html": [
       "<div class=\"verse  \" >\n",
       "\n",
       "    <div class=\"vl\">\n",
       "        <div class=\"vrs\"><a href=\"https://github.com/etcbc/peshitta/blob/master/source/0.1/Samuel_1\" title=\"show this passage in the Peshitta source\" sec=\"Samuel_1 1:1\">Samuel_1 1:1</a></div>\n",
       "        \n",
       "    </div>\n",
       "\n",
       "<div class=\"word  hl\" >\n",
       "<div class=\"sy\">ܘܗܘܐ </div>\n",
       "<div class=\"features\"> <span class=\"word_etcbc\">WHW></span></div>\n",
       "\n",
       "\n",
       "</div>\n",
       "\n",
       "<div class=\"word  \" >\n",
       "<div class=\"sy\">ܓܒܪܐ </div>\n",
       "<div class=\"features\"> <span class=\"word_etcbc\">GBR></span></div>\n",
       "\n",
       "\n",
       "</div>\n",
       "\n",
       "<div class=\"word  \" >\n",
       "<div class=\"sy\">ܚܕ </div>\n",
       "<div class=\"features\"> <span class=\"word_etcbc\">XD</span></div>\n",
       "\n",
       "\n",
       "</div>\n",
       "\n",
       "<div class=\"word  \" >\n",
       "<div class=\"sy\">ܡܢ </div>\n",
       "<div class=\"features\"> <span class=\"word_etcbc\">MN</span></div>\n",
       "\n",
       "\n",
       "</div>\n",
       "\n",
       "<div class=\"word  \" >\n",
       "<div class=\"sy\">ܪܡܬܐ </div>\n",
       "<div class=\"features\"> <span class=\"word_etcbc\">RMT></span></div>\n",
       "\n",
       "\n",
       "</div>\n",
       "\n",
       "<div class=\"word  \" >\n",
       "<div class=\"sy\">ܕܕܘܩ̈ܐ </div>\n",
       "<div class=\"features\"> <span class=\"word_etcbc\">DDWQ\"></span></div>\n",
       "\n",
       "\n",
       "</div>\n",
       "\n",
       "<div class=\"word  \" >\n",
       "<div class=\"sy\">ܡܢ </div>\n",
       "<div class=\"features\"> <span class=\"word_etcbc\">MN</span></div>\n",
       "\n",
       "\n",
       "</div>\n",
       "\n",
       "<div class=\"word  \" >\n",
       "<div class=\"sy\">ܛܘܪܐ </div>\n",
       "<div class=\"features\"> <span class=\"word_etcbc\">VWR></span></div>\n",
       "\n",
       "\n",
       "</div>\n",
       "\n",
       "<div class=\"word  \" >\n",
       "<div class=\"sy\">ܕܐܦܪܝܡ </div>\n",
       "<div class=\"features\"> <span class=\"word_etcbc\">D>PRJM</span></div>\n",
       "\n",
       "\n",
       "</div>\n",
       "\n",
       "<div class=\"word  \" >\n",
       "<div class=\"sy\">ܘܫܡܗ </div>\n",
       "<div class=\"features\"> <span class=\"word_etcbc\">WCMH</span></div>\n",
       "\n",
       "\n",
       "</div>\n",
       "\n",
       "<div class=\"word  \" >\n",
       "<div class=\"sy\">ܗܠܩܢܐ </div>\n",
       "<div class=\"features\"> <span class=\"word_etcbc\">HLQN></span></div>\n",
       "\n",
       "\n",
       "</div>\n",
       "\n",
       "<div class=\"word  \" >\n",
       "<div class=\"sy\">ܒܪ </div>\n",
       "<div class=\"features\"> <span class=\"word_etcbc\">BR</span></div>\n",
       "\n",
       "\n",
       "</div>\n",
       "\n",
       "<div class=\"word  \" >\n",
       "<div class=\"sy\">ܝܪܚܘܡ </div>\n",
       "<div class=\"features\"> <span class=\"word_etcbc\">JRXWM</span></div>\n",
       "\n",
       "\n",
       "</div>\n",
       "\n",
       "<div class=\"word  \" >\n",
       "<div class=\"sy\">ܒܪ </div>\n",
       "<div class=\"features\"> <span class=\"word_etcbc\">BR</span></div>\n",
       "\n",
       "\n",
       "</div>\n",
       "\n",
       "<div class=\"word  \" >\n",
       "<div class=\"sy\">ܐܠܝܗܘ </div>\n",
       "<div class=\"features\"> <span class=\"word_etcbc\">>LJHW</span></div>\n",
       "\n",
       "\n",
       "</div>\n",
       "\n",
       "<div class=\"word  \" >\n",
       "<div class=\"sy\">ܒܪ </div>\n",
       "<div class=\"features\"> <span class=\"word_etcbc\">BR</span></div>\n",
       "\n",
       "\n",
       "</div>\n",
       "\n",
       "<div class=\"word  \" >\n",
       "<div class=\"sy\">ܬܚܘ </div>\n",
       "<div class=\"features\"> <span class=\"word_etcbc\">TXW</span></div>\n",
       "\n",
       "\n",
       "</div>\n",
       "\n",
       "<div class=\"word  \" >\n",
       "<div class=\"sy\">ܒܪ </div>\n",
       "<div class=\"features\"> <span class=\"word_etcbc\">BR</span></div>\n",
       "\n",
       "\n",
       "</div>\n",
       "\n",
       "<div class=\"word  \" >\n",
       "<div class=\"sy\">ܨܘܦ </div>\n",
       "<div class=\"features\"> <span class=\"word_etcbc\">YWP</span></div>\n",
       "\n",
       "\n",
       "</div>\n",
       "\n",
       "<div class=\"word  \" >\n",
       "<div class=\"sy\">ܐܦܪܬܝܐ </div>\n",
       "<div class=\"features\"> <span class=\"word_etcbc\">>PRTJ></span></div>\n",
       "\n",
       "\n",
       "</div>\n",
       "\n",
       "\n",
       "</div>\n"
      ],
      "text/plain": [
       "<IPython.core.display.HTML object>"
      ]
     },
     "metadata": {},
     "output_type": "display_data"
    },
    {
     "data": {
      "text/markdown": [
       "\n",
       "\n",
       "**book** *2*\n",
       "\n"
      ],
      "text/plain": [
       "<IPython.core.display.Markdown object>"
      ]
     },
     "metadata": {},
     "output_type": "display_data"
    },
    {
     "data": {
      "text/html": [
       "<a href=\"https://github.com/etcbc/peshitta/blob/master/source/0.1/Samuel_1\" title=\"show this passage in the Peshitta source\" sec=\"Samuel_1\">Samuel_1</a>"
      ],
      "text/plain": [
       "<IPython.core.display.HTML object>"
      ]
     },
     "metadata": {},
     "output_type": "display_data"
    },
    {
     "data": {
      "text/html": [
       "<a href=\"https://github.com/etcbc/peshitta/blob/master/source/0.1/Samuel_1\" title=\"show this passage in the Peshitta source\" sec=\"Samuel_1 1\">Samuel_1 1</a>"
      ],
      "text/plain": [
       "<IPython.core.display.HTML object>"
      ]
     },
     "metadata": {},
     "output_type": "display_data"
    },
    {
     "data": {
      "text/html": [
       "<div class=\"verse  \" >\n",
       "\n",
       "    <div class=\"vl\">\n",
       "        <div class=\"vrs\"><a href=\"https://github.com/etcbc/peshitta/blob/master/source/0.1/Samuel_1\" title=\"show this passage in the Peshitta source\" sec=\"Samuel_1 1:1\">Samuel_1 1:1</a></div>\n",
       "        \n",
       "    </div>\n",
       "\n",
       "<div class=\"word  \" >\n",
       "<div class=\"sy\">ܘܗܘܐ </div>\n",
       "<div class=\"features\"> <span class=\"word_etcbc\">WHW></span></div>\n",
       "\n",
       "\n",
       "</div>\n",
       "\n",
       "<div class=\"word  hl\" >\n",
       "<div class=\"sy\">ܓܒܪܐ </div>\n",
       "<div class=\"features\"> <span class=\"word_etcbc\">GBR></span></div>\n",
       "\n",
       "\n",
       "</div>\n",
       "\n",
       "<div class=\"word  \" >\n",
       "<div class=\"sy\">ܚܕ </div>\n",
       "<div class=\"features\"> <span class=\"word_etcbc\">XD</span></div>\n",
       "\n",
       "\n",
       "</div>\n",
       "\n",
       "<div class=\"word  \" >\n",
       "<div class=\"sy\">ܡܢ </div>\n",
       "<div class=\"features\"> <span class=\"word_etcbc\">MN</span></div>\n",
       "\n",
       "\n",
       "</div>\n",
       "\n",
       "<div class=\"word  \" >\n",
       "<div class=\"sy\">ܪܡܬܐ </div>\n",
       "<div class=\"features\"> <span class=\"word_etcbc\">RMT></span></div>\n",
       "\n",
       "\n",
       "</div>\n",
       "\n",
       "<div class=\"word  \" >\n",
       "<div class=\"sy\">ܕܕܘܩ̈ܐ </div>\n",
       "<div class=\"features\"> <span class=\"word_etcbc\">DDWQ\"></span></div>\n",
       "\n",
       "\n",
       "</div>\n",
       "\n",
       "<div class=\"word  \" >\n",
       "<div class=\"sy\">ܡܢ </div>\n",
       "<div class=\"features\"> <span class=\"word_etcbc\">MN</span></div>\n",
       "\n",
       "\n",
       "</div>\n",
       "\n",
       "<div class=\"word  \" >\n",
       "<div class=\"sy\">ܛܘܪܐ </div>\n",
       "<div class=\"features\"> <span class=\"word_etcbc\">VWR></span></div>\n",
       "\n",
       "\n",
       "</div>\n",
       "\n",
       "<div class=\"word  \" >\n",
       "<div class=\"sy\">ܕܐܦܪܝܡ </div>\n",
       "<div class=\"features\"> <span class=\"word_etcbc\">D>PRJM</span></div>\n",
       "\n",
       "\n",
       "</div>\n",
       "\n",
       "<div class=\"word  \" >\n",
       "<div class=\"sy\">ܘܫܡܗ </div>\n",
       "<div class=\"features\"> <span class=\"word_etcbc\">WCMH</span></div>\n",
       "\n",
       "\n",
       "</div>\n",
       "\n",
       "<div class=\"word  \" >\n",
       "<div class=\"sy\">ܗܠܩܢܐ </div>\n",
       "<div class=\"features\"> <span class=\"word_etcbc\">HLQN></span></div>\n",
       "\n",
       "\n",
       "</div>\n",
       "\n",
       "<div class=\"word  \" >\n",
       "<div class=\"sy\">ܒܪ </div>\n",
       "<div class=\"features\"> <span class=\"word_etcbc\">BR</span></div>\n",
       "\n",
       "\n",
       "</div>\n",
       "\n",
       "<div class=\"word  \" >\n",
       "<div class=\"sy\">ܝܪܚܘܡ </div>\n",
       "<div class=\"features\"> <span class=\"word_etcbc\">JRXWM</span></div>\n",
       "\n",
       "\n",
       "</div>\n",
       "\n",
       "<div class=\"word  \" >\n",
       "<div class=\"sy\">ܒܪ </div>\n",
       "<div class=\"features\"> <span class=\"word_etcbc\">BR</span></div>\n",
       "\n",
       "\n",
       "</div>\n",
       "\n",
       "<div class=\"word  \" >\n",
       "<div class=\"sy\">ܐܠܝܗܘ </div>\n",
       "<div class=\"features\"> <span class=\"word_etcbc\">>LJHW</span></div>\n",
       "\n",
       "\n",
       "</div>\n",
       "\n",
       "<div class=\"word  \" >\n",
       "<div class=\"sy\">ܒܪ </div>\n",
       "<div class=\"features\"> <span class=\"word_etcbc\">BR</span></div>\n",
       "\n",
       "\n",
       "</div>\n",
       "\n",
       "<div class=\"word  \" >\n",
       "<div class=\"sy\">ܬܚܘ </div>\n",
       "<div class=\"features\"> <span class=\"word_etcbc\">TXW</span></div>\n",
       "\n",
       "\n",
       "</div>\n",
       "\n",
       "<div class=\"word  \" >\n",
       "<div class=\"sy\">ܒܪ </div>\n",
       "<div class=\"features\"> <span class=\"word_etcbc\">BR</span></div>\n",
       "\n",
       "\n",
       "</div>\n",
       "\n",
       "<div class=\"word  \" >\n",
       "<div class=\"sy\">ܨܘܦ </div>\n",
       "<div class=\"features\"> <span class=\"word_etcbc\">YWP</span></div>\n",
       "\n",
       "\n",
       "</div>\n",
       "\n",
       "<div class=\"word  \" >\n",
       "<div class=\"sy\">ܐܦܪܬܝܐ </div>\n",
       "<div class=\"features\"> <span class=\"word_etcbc\">>PRTJ></span></div>\n",
       "\n",
       "\n",
       "</div>\n",
       "\n",
       "\n",
       "</div>\n"
      ],
      "text/plain": [
       "<IPython.core.display.HTML object>"
      ]
     },
     "metadata": {},
     "output_type": "display_data"
    },
    {
     "data": {
      "text/markdown": [
       "\n",
       "\n",
       "**book** *3*\n",
       "\n"
      ],
      "text/plain": [
       "<IPython.core.display.Markdown object>"
      ]
     },
     "metadata": {},
     "output_type": "display_data"
    },
    {
     "data": {
      "text/html": [
       "<a href=\"https://github.com/etcbc/peshitta/blob/master/source/0.1/Samuel_1\" title=\"show this passage in the Peshitta source\" sec=\"Samuel_1\">Samuel_1</a>"
      ],
      "text/plain": [
       "<IPython.core.display.HTML object>"
      ]
     },
     "metadata": {},
     "output_type": "display_data"
    },
    {
     "data": {
      "text/html": [
       "<a href=\"https://github.com/etcbc/peshitta/blob/master/source/0.1/Samuel_1\" title=\"show this passage in the Peshitta source\" sec=\"Samuel_1 1\">Samuel_1 1</a>"
      ],
      "text/plain": [
       "<IPython.core.display.HTML object>"
      ]
     },
     "metadata": {},
     "output_type": "display_data"
    },
    {
     "data": {
      "text/html": [
       "<div class=\"verse  \" >\n",
       "\n",
       "    <div class=\"vl\">\n",
       "        <div class=\"vrs\"><a href=\"https://github.com/etcbc/peshitta/blob/master/source/0.1/Samuel_1\" title=\"show this passage in the Peshitta source\" sec=\"Samuel_1 1:1\">Samuel_1 1:1</a></div>\n",
       "        \n",
       "    </div>\n",
       "\n",
       "<div class=\"word  \" >\n",
       "<div class=\"sy\">ܘܗܘܐ </div>\n",
       "<div class=\"features\"> <span class=\"word_etcbc\">WHW></span></div>\n",
       "\n",
       "\n",
       "</div>\n",
       "\n",
       "<div class=\"word  \" >\n",
       "<div class=\"sy\">ܓܒܪܐ </div>\n",
       "<div class=\"features\"> <span class=\"word_etcbc\">GBR></span></div>\n",
       "\n",
       "\n",
       "</div>\n",
       "\n",
       "<div class=\"word  hl\" >\n",
       "<div class=\"sy\">ܚܕ </div>\n",
       "<div class=\"features\"> <span class=\"word_etcbc\">XD</span></div>\n",
       "\n",
       "\n",
       "</div>\n",
       "\n",
       "<div class=\"word  \" >\n",
       "<div class=\"sy\">ܡܢ </div>\n",
       "<div class=\"features\"> <span class=\"word_etcbc\">MN</span></div>\n",
       "\n",
       "\n",
       "</div>\n",
       "\n",
       "<div class=\"word  \" >\n",
       "<div class=\"sy\">ܪܡܬܐ </div>\n",
       "<div class=\"features\"> <span class=\"word_etcbc\">RMT></span></div>\n",
       "\n",
       "\n",
       "</div>\n",
       "\n",
       "<div class=\"word  \" >\n",
       "<div class=\"sy\">ܕܕܘܩ̈ܐ </div>\n",
       "<div class=\"features\"> <span class=\"word_etcbc\">DDWQ\"></span></div>\n",
       "\n",
       "\n",
       "</div>\n",
       "\n",
       "<div class=\"word  \" >\n",
       "<div class=\"sy\">ܡܢ </div>\n",
       "<div class=\"features\"> <span class=\"word_etcbc\">MN</span></div>\n",
       "\n",
       "\n",
       "</div>\n",
       "\n",
       "<div class=\"word  \" >\n",
       "<div class=\"sy\">ܛܘܪܐ </div>\n",
       "<div class=\"features\"> <span class=\"word_etcbc\">VWR></span></div>\n",
       "\n",
       "\n",
       "</div>\n",
       "\n",
       "<div class=\"word  \" >\n",
       "<div class=\"sy\">ܕܐܦܪܝܡ </div>\n",
       "<div class=\"features\"> <span class=\"word_etcbc\">D>PRJM</span></div>\n",
       "\n",
       "\n",
       "</div>\n",
       "\n",
       "<div class=\"word  \" >\n",
       "<div class=\"sy\">ܘܫܡܗ </div>\n",
       "<div class=\"features\"> <span class=\"word_etcbc\">WCMH</span></div>\n",
       "\n",
       "\n",
       "</div>\n",
       "\n",
       "<div class=\"word  \" >\n",
       "<div class=\"sy\">ܗܠܩܢܐ </div>\n",
       "<div class=\"features\"> <span class=\"word_etcbc\">HLQN></span></div>\n",
       "\n",
       "\n",
       "</div>\n",
       "\n",
       "<div class=\"word  \" >\n",
       "<div class=\"sy\">ܒܪ </div>\n",
       "<div class=\"features\"> <span class=\"word_etcbc\">BR</span></div>\n",
       "\n",
       "\n",
       "</div>\n",
       "\n",
       "<div class=\"word  \" >\n",
       "<div class=\"sy\">ܝܪܚܘܡ </div>\n",
       "<div class=\"features\"> <span class=\"word_etcbc\">JRXWM</span></div>\n",
       "\n",
       "\n",
       "</div>\n",
       "\n",
       "<div class=\"word  \" >\n",
       "<div class=\"sy\">ܒܪ </div>\n",
       "<div class=\"features\"> <span class=\"word_etcbc\">BR</span></div>\n",
       "\n",
       "\n",
       "</div>\n",
       "\n",
       "<div class=\"word  \" >\n",
       "<div class=\"sy\">ܐܠܝܗܘ </div>\n",
       "<div class=\"features\"> <span class=\"word_etcbc\">>LJHW</span></div>\n",
       "\n",
       "\n",
       "</div>\n",
       "\n",
       "<div class=\"word  \" >\n",
       "<div class=\"sy\">ܒܪ </div>\n",
       "<div class=\"features\"> <span class=\"word_etcbc\">BR</span></div>\n",
       "\n",
       "\n",
       "</div>\n",
       "\n",
       "<div class=\"word  \" >\n",
       "<div class=\"sy\">ܬܚܘ </div>\n",
       "<div class=\"features\"> <span class=\"word_etcbc\">TXW</span></div>\n",
       "\n",
       "\n",
       "</div>\n",
       "\n",
       "<div class=\"word  \" >\n",
       "<div class=\"sy\">ܒܪ </div>\n",
       "<div class=\"features\"> <span class=\"word_etcbc\">BR</span></div>\n",
       "\n",
       "\n",
       "</div>\n",
       "\n",
       "<div class=\"word  \" >\n",
       "<div class=\"sy\">ܨܘܦ </div>\n",
       "<div class=\"features\"> <span class=\"word_etcbc\">YWP</span></div>\n",
       "\n",
       "\n",
       "</div>\n",
       "\n",
       "<div class=\"word  \" >\n",
       "<div class=\"sy\">ܐܦܪܬܝܐ </div>\n",
       "<div class=\"features\"> <span class=\"word_etcbc\">>PRTJ></span></div>\n",
       "\n",
       "\n",
       "</div>\n",
       "\n",
       "\n",
       "</div>\n"
      ],
      "text/plain": [
       "<IPython.core.display.HTML object>"
      ]
     },
     "metadata": {},
     "output_type": "display_data"
    }
   ],
   "source": [
    "A.show(results, start=1, end=3)"
   ]
  },
  {
   "cell_type": "markdown",
   "metadata": {},
   "source": [
    "# Next\n",
    "\n",
    "You know how to run queries and show off with their results.\n",
    "\n",
    "The next thing is to dive deeper into the power of templates.\n",
    "But for that you have to go to the\n",
    "[search tutorial of the BHSA](https://nbviewer.jupyter.org/github/etcbc/bhsa/blob/master/tutorial/search.ipynb)\n",
    "since that data set has much more features to play with.\n",
    "\n",
    "---\n",
    "\n",
    "basic\n",
    "[BHSA](https://nbviewer.jupyter.org/github/etcbc/bhsa/blob/master/tutorial/search.ipynb)"
   ]
  }
 ],
 "metadata": {
  "kernelspec": {
   "display_name": "Python 3",
   "language": "python",
   "name": "python3"
  },
  "language_info": {
   "codemirror_mode": {
    "name": "ipython",
    "version": 3
   },
   "file_extension": ".py",
   "mimetype": "text/x-python",
   "name": "python",
   "nbconvert_exporter": "python",
   "pygments_lexer": "ipython3",
   "version": "3.7.1"
  }
 },
 "nbformat": 4,
 "nbformat_minor": 2
}
